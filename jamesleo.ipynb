{
 "cells": [
  {
   "cell_type": "code",
   "execution_count": 1,
   "metadata": {
    "colab": {},
    "colab_type": "code",
    "id": "YT07E0_S7hUn"
   },
   "outputs": [],
   "source": [
    "from sklearn import *\n",
    "import sklearn\n",
    "import pandas\n",
    "import numpy\n",
    "import matplotlib\n",
    "from sklearn.utils import shuffle\n",
    "from sklearn.model_selection import train_test_split\n",
    "\n",
    "%matplotlib inline\n",
    "import matplotlib.pyplot as plt"
   ]
  },
  {
   "cell_type": "code",
   "execution_count": 2,
   "metadata": {
    "colab": {
     "base_uri": "https://localhost:8080/",
     "height": 136
    },
    "colab_type": "code",
    "id": "n4_GMEMj7s1P",
    "outputId": "2d9172b5-3609-4803-9649-838c4b380a69"
   },
   "outputs": [
    {
     "name": "stdout",
     "output_type": "stream",
     "text": [
      "fatal: destination path 'aini-hackathon-jamesleo' already exists and is not an empty directory.\r\n"
     ]
    },
    {
     "data": {
      "text/html": [
       "<div>\n",
       "<style scoped>\n",
       "    .dataframe tbody tr th:only-of-type {\n",
       "        vertical-align: middle;\n",
       "    }\n",
       "\n",
       "    .dataframe tbody tr th {\n",
       "        vertical-align: top;\n",
       "    }\n",
       "\n",
       "    .dataframe thead th {\n",
       "        text-align: right;\n",
       "    }\n",
       "</style>\n",
       "<table border=\"1\" class=\"dataframe\">\n",
       "  <thead>\n",
       "    <tr style=\"text-align: right;\">\n",
       "      <th></th>\n",
       "      <th>Review</th>\n",
       "      <th>Class</th>\n",
       "    </tr>\n",
       "  </thead>\n",
       "  <tbody>\n",
       "    <tr>\n",
       "      <th>6383</th>\n",
       "      <td>Got these as a treat for myself while doing so...</td>\n",
       "      <td>0</td>\n",
       "    </tr>\n",
       "    <tr>\n",
       "      <th>2230</th>\n",
       "      <td>Just recieved this to the JBL charge 3 and I h...</td>\n",
       "      <td>1</td>\n",
       "    </tr>\n",
       "    <tr>\n",
       "      <th>8413</th>\n",
       "      <td>Loved the product but hated the limited sound ...</td>\n",
       "      <td>0</td>\n",
       "    </tr>\n",
       "  </tbody>\n",
       "</table>\n",
       "</div>"
      ],
      "text/plain": [
       "                                                 Review  Class\n",
       "6383  Got these as a treat for myself while doing so...      0\n",
       "2230  Just recieved this to the JBL charge 3 and I h...      1\n",
       "8413  Loved the product but hated the limited sound ...      0"
      ]
     },
     "execution_count": 2,
     "metadata": {},
     "output_type": "execute_result"
    }
   ],
   "source": [
    "!git clone https://github.com/jamesmcfarland/aini-hackathon-jamesleo.git\n",
    "df= jamesD = shuffle(pandas.read_csv(\"aini-hackathon-jamesleo/combinedData.csv\"), random_state=12)\n",
    "df.head(3)\n"
   ]
  },
  {
   "cell_type": "code",
   "execution_count": 3,
   "metadata": {
    "colab": {
     "base_uri": "https://localhost:8080/",
     "height": 34
    },
    "colab_type": "code",
    "id": "k42ltteeDiIJ",
    "outputId": "a131735f-fad9-4c62-f4f8-3e3dab35bcca"
   },
   "outputs": [
    {
     "data": {
      "text/plain": [
       "(9477, 8625)"
      ]
     },
     "execution_count": 3,
     "metadata": {},
     "output_type": "execute_result"
    }
   ],
   "source": [
    "from sklearn.feature_extraction.text import TfidfVectorizer\n",
    "y = df[\"Class\"]\n",
    "cv = TfidfVectorizer()\n",
    "x_vect = cv.fit_transform(df[\"Review\"])\n",
    "x_vect.shape\n"
   ]
  },
  {
   "cell_type": "code",
   "execution_count": 4,
   "metadata": {
    "colab": {
     "base_uri": "https://localhost:8080/",
     "height": 34
    },
    "colab_type": "code",
    "id": "HYnKEgQXDimZ",
    "outputId": "477d7f3a-5936-479e-96ba-06bc4f617969",
    "scrolled": true
   },
   "outputs": [
    {
     "name": "stdout",
     "output_type": "stream",
     "text": [
      "1278\n"
     ]
    }
   ],
   "source": [
    "print(cv.vocabulary_.get(u'bought'))"
   ]
  },
  {
   "cell_type": "code",
   "execution_count": 5,
   "metadata": {
    "colab": {},
    "colab_type": "code",
    "id": "yfwV6jNEGpzt"
   },
   "outputs": [],
   "source": [
    "x_train, x_test, y_train, y_test = train_test_split(x_vect,y, test_size=0.2, random_state=12 )"
   ]
  },
  {
   "cell_type": "code",
   "execution_count": 8,
   "metadata": {
    "colab": {},
    "colab_type": "code",
    "id": "viZNmCgHESfi"
   },
   "outputs": [],
   "source": [
    "#from sklearn.naive_bayes import MultinomialNB#\n",
    "#from sklearn.tree import DecisionTreeClassifier\n",
    "from sklearn.ensemble import RandomForestClassifier, AdaBoostClassifier\n",
    "#from sklearn.discriminant_analysis import QuadraticDiscriminantAnalysis\n",
    "#from sklearn.svm import SVC\n",
    "#svc = SVC(probability=True, kernel='rbf')\n",
    "\n",
    "    \n",
    "clf = AdaBoostClassifier(n_estimators=1000 ,learning_rate=.25).fit(x_train, y_train)"
   ]
  },
  {
   "cell_type": "code",
   "execution_count": 9,
   "metadata": {
    "colab": {
     "base_uri": "https://localhost:8080/",
     "height": 34
    },
    "colab_type": "code",
    "id": "ERsnWITXLJ8y",
    "outputId": "2d1c99ae-0ebb-4ad7-c52c-cd23c1a14402",
    "scrolled": true
   },
   "outputs": [
    {
     "name": "stdout",
     "output_type": "stream",
     "text": [
      "[1 0 1 ... 0 1 0]\n"
     ]
    }
   ],
   "source": [
    "predicts = clf.predict(x_test)\n",
    "print(predicts)"
   ]
  },
  {
   "cell_type": "code",
   "execution_count": 10,
   "metadata": {
    "colab": {
     "base_uri": "https://localhost:8080/",
     "height": 34
    },
    "colab_type": "code",
    "id": "hMofUnjaLJ_V",
    "outputId": "cdfd5958-bbc1-4a75-b938-4827a3f41f79"
   },
   "outputs": [
    {
     "data": {
      "text/plain": [
       "0.8544303797468354"
      ]
     },
     "execution_count": 10,
     "metadata": {},
     "output_type": "execute_result"
    }
   ],
   "source": [
    "clf.score(x_test, y_test)"
   ]
  },
  {
   "cell_type": "code",
   "execution_count": 11,
   "metadata": {
    "colab": {},
    "colab_type": "code",
    "id": "0I3kYXA3LKB1"
   },
   "outputs": [
    {
     "name": "stdout",
     "output_type": "stream",
     "text": [
      "Recall: 0.85\n",
      "Sklearn recall: 0.85\n",
      "Precision: 0.87\n",
      "Skearn precision: 0.87\n",
      "Accuracy: 0.85\n",
      "Sklearn accuracy: 0.85\n"
     ]
    }
   ],
   "source": [
    "ypreds = clf.predict(x_test)\n",
    "tpos, tneg, fpos, fneg = 0, 0, 0, 0\n",
    "\n",
    "for prediction, correct_value in zip(ypreds, y_test):\n",
    "    if prediction == 1 and correct_value == 1:\n",
    "        tpos += 1\n",
    "    if prediction == 1 and correct_value == 0:\n",
    "        fpos += 1\n",
    "    if prediction == 0 and correct_value == 0:\n",
    "        tneg += 1\n",
    "    if prediction == 0 and correct_value == 1:\n",
    "        fneg += 1\n",
    "        \n",
    "        \n",
    "        \n",
    "recall = (tpos) / (tpos + fneg)\n",
    "\n",
    "print(f'Recall: {recall:.2f}')\n",
    "print(f'Sklearn recall: {sklearn.metrics.recall_score(y_test, ypreds):.2f}')\n",
    "precision = (tpos) / (tpos + fpos)\n",
    "print(f'Precision: {precision:.2f}')\n",
    "print(f'Skearn precision: {sklearn.metrics.precision_score(y_test, ypreds):.2f}')\n",
    "accuracy = (tpos + tneg) / (tpos + tneg + fpos + fneg)\n",
    "print(f'Accuracy: {accuracy:.2f}')\n",
    "print(f'Sklearn accuracy: {clf.score(x_test, y_test):.2f}')"
   ]
  },
  {
   "cell_type": "code",
   "execution_count": 12,
   "metadata": {
    "colab": {
     "base_uri": "https://localhost:8080/",
     "height": 296
    },
    "colab_type": "code",
    "id": "vlY5uFEE8SJ1",
    "outputId": "cbbdfd17-fd7a-4869-b957-ccb5ed923e2c"
   },
   "outputs": [
    {
     "data": {
      "text/plain": [
       "<Figure size 1440x720 with 0 Axes>"
      ]
     },
     "metadata": {},
     "output_type": "display_data"
    },
    {
     "data": {
      "image/png": "[encoded data removed]",
      "text/plain": [
       "<Figure size 432x288 with 1 Axes>"
      ]
     },
     "metadata": {
      "needs_background": "light"
     },
     "output_type": "display_data"
    }
   ],
   "source": [
    "plt.figure(figsize=(20,10))\n",
    "\n",
    "df.groupby('Class').count().plot.bar(ylim=0)\n",
    "plt.show()"
   ]
  },
  {
   "cell_type": "code",
   "execution_count": null,
   "metadata": {
    "colab": {},
    "colab_type": "code",
    "id": "npMR10sWLIv_"
   },
   "outputs": [],
   "source": []
  },
  {
   "cell_type": "code",
   "execution_count": null,
   "metadata": {
    "colab": {},
    "colab_type": "code",
    "id": "q12h-hAbLI-2"
   },
   "outputs": [],
   "source": []
  },
  {
   "cell_type": "code",
   "execution_count": null,
   "metadata": {
    "colab": {},
    "colab_type": "code",
    "id": "9ZRip1ZALJBC"
   },
   "outputs": [],
   "source": []
  },
  {
   "cell_type": "code",
   "execution_count": null,
   "metadata": {
    "colab": {},
    "colab_type": "code",
    "id": "PTpZ7xDdERqV"
   },
   "outputs": [],
   "source": []
  },
  {
   "cell_type": "code",
   "execution_count": null,
   "metadata": {
    "colab": {},
    "colab_type": "code",
    "id": "3NScc20s-A74"
   },
   "outputs": [],
   "source": []
  },
  {
   "cell_type": "code",
   "execution_count": null,
   "metadata": {
    "colab": {},
    "colab_type": "code",
    "id": "wj_JeovT_hI1"
   },
   "outputs": [],
   "source": []
  },
  {
   "cell_type": "code",
   "execution_count": null,
   "metadata": {
    "colab": {},
    "colab_type": "code",
    "id": "Hs0Wn7po_hKv"
   },
   "outputs": [],
   "source": []
  },
  {
   "cell_type": "code",
   "execution_count": null,
   "metadata": {
    "colab": {},
    "colab_type": "code",
    "id": "04jSxBWv_hM3"
   },
   "outputs": [],
   "source": [
    "#This is basically all we have to do\n",
    "#https://scikit-learn.org/stable/tutorial/text_analytics/working_with_text_data.html"
   ]
  },
  {
   "cell_type": "code",
   "execution_count": null,
   "metadata": {
    "colab": {},
    "colab_type": "code",
    "id": "57zRFrCV_hO-"
   },
   "outputs": [],
   "source": [
    "\n"
   ]
  },
  {
   "cell_type": "code",
   "execution_count": null,
   "metadata": {
    "colab": {
     "base_uri": "https://localhost:8080/",
     "height": 34
    },
    "colab_type": "code",
    "id": "AYfVZgHL9VNk",
    "outputId": "2d64134c-474e-477f-d534-492db4bf17d3"
   },
   "outputs": [],
   "source": [
    "print(\"Hey\")"
   ]
  },
  {
   "cell_type": "code",
   "execution_count": null,
   "metadata": {
    "colab": {},
    "colab_type": "code",
    "id": "69IupqtF9eN2"
   },
   "outputs": [],
   "source": []
  }
 ],
 "metadata": {
  "colab": {
   "collapsed_sections": [],
   "name": "jamesleo.ipynb",
   "provenance": [],
   "version": "0.3.2"
  },
  "kernelspec": {
   "display_name": "Python 3",
   "language": "python",
   "name": "python3"
  },
  "language_info": {
   "codemirror_mode": {
    "name": "ipython",
    "version": 3
   },
   "file_extension": ".py",
   "mimetype": "text/x-python",
   "name": "python",
   "nbconvert_exporter": "python",
   "pygments_lexer": "ipython3",
   "version": "3.6.7"
  }
 },
 "nbformat": 4,
 "nbformat_minor": 1
}
