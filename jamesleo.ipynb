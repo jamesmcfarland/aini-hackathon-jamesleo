{
  "nbformat": 4,
  "nbformat_minor": 0,
  "metadata": {
    "colab": {
      "name": "jamesleo.ipynb",
      "version": "0.3.2",
      "provenance": [],
      "collapsed_sections": []
    },
    "kernelspec": {
      "name": "python3",
      "display_name": "Python 3"
    }
  },
  "cells": [
    {
      "metadata": {
        "id": "ns6AwYblykXm",
        "colab_type": "code",
        "outputId": "ee0fdf85-2d73-4e0c-8970-054e3f07ecd9",
        "colab": {
          "base_uri": "https://localhost:8080/",
          "height": 75
        }
      },
      "cell_type": "code",
      "source": [
        "\n"
      ],
      "execution_count": 1,
      "outputs": [
        {
          "output_type": "stream",
          "text": [
            "Requirement already satisfied: xgboost in /usr/local/lib/python3.6/dist-packages (0.82)\n",
            "Requirement already satisfied: numpy in /usr/local/lib/python3.6/dist-packages (from xgboost) (1.16.2)\n",
            "Requirement already satisfied: scipy in /usr/local/lib/python3.6/dist-packages (from xgboost) (1.2.1)\n"
          ],
          "name": "stdout"
        }
      ]
    },
    {
      "metadata": {
        "id": "YT07E0_S7hUn",
        "colab_type": "code",
        "colab": {}
      },
      "cell_type": "code",
      "source": [
        "from sklearn import *\n",
        "import sklearn\n",
        "import pandas as pd\n",
        "import numpy\n",
        "import matplotlib\n",
        "from sklearn.utils import shuffle\n",
        "from sklearn.model_selection import train_test_split\n",
        "\n",
        "%matplotlib inline\n",
        "import matplotlib.pyplot as plt"
      ],
      "execution_count": 0,
      "outputs": []
    },
    {
      "metadata": {
        "id": "6_vxE-6OaJ6L",
        "colab_type": "code",
        "colab": {
          "base_uri": "https://localhost:8080/",
          "height": 260
        },
        "outputId": "d9e6f334-6583-4e4f-aeda-e80d5ca3e817"
      },
      "cell_type": "code",
      "source": [
        "!git clone https://github.com/jamesmcfarland/aini-hackathon-jamesleo.git\n",
        "df= jamesD = shuffle(pd.read_csv(\"aini-hackathon-jamesleo/5050.csv\"), random_state=12) \n",
        "df.head(3)"
      ],
      "execution_count": 2,
      "outputs": [
        {
          "output_type": "stream",
          "text": [
            "Cloning into 'aini-hackathon-jamesleo'...\n",
            "remote: Enumerating objects: 66, done.\u001b[K\n",
            "remote: Counting objects: 100% (66/66), done.\u001b[K\n",
            "remote: Compressing objects: 100% (52/52), done.\u001b[K\n",
            "remote: Total 66 (delta 30), reused 36 (delta 11), pack-reused 0\u001b[K\n",
            "Unpacking objects: 100% (66/66), done.\n"
          ],
          "name": "stdout"
        },
        {
          "output_type": "execute_result",
          "data": {
            "text/html": [
              "<div>\n",
              "<style scoped>\n",
              "    .dataframe tbody tr th:only-of-type {\n",
              "        vertical-align: middle;\n",
              "    }\n",
              "\n",
              "    .dataframe tbody tr th {\n",
              "        vertical-align: top;\n",
              "    }\n",
              "\n",
              "    .dataframe thead th {\n",
              "        text-align: right;\n",
              "    }\n",
              "</style>\n",
              "<table border=\"1\" class=\"dataframe\">\n",
              "  <thead>\n",
              "    <tr style=\"text-align: right;\">\n",
              "      <th></th>\n",
              "      <th>Review</th>\n",
              "      <th>Class</th>\n",
              "    </tr>\n",
              "  </thead>\n",
              "  <tbody>\n",
              "    <tr>\n",
              "      <th>7204</th>\n",
              "      <td>Had these girls for 2 years. Polk Audio really...</td>\n",
              "      <td>0</td>\n",
              "    </tr>\n",
              "    <tr>\n",
              "      <th>1422</th>\n",
              "      <td>Purchased this a month ago and I love it so mu...</td>\n",
              "      <td>1</td>\n",
              "    </tr>\n",
              "    <tr>\n",
              "      <th>6505</th>\n",
              "      <td>I have had these headphones for about a month ...</td>\n",
              "      <td>0</td>\n",
              "    </tr>\n",
              "  </tbody>\n",
              "</table>\n",
              "</div>"
            ],
            "text/plain": [
              "                                                 Review  Class\n",
              "7204  Had these girls for 2 years. Polk Audio really...      0\n",
              "1422  Purchased this a month ago and I love it so mu...      1\n",
              "6505  I have had these headphones for about a month ...      0"
            ]
          },
          "metadata": {
            "tags": []
          },
          "execution_count": 2
        }
      ]
    },
    {
      "metadata": {
        "id": "n4_GMEMj7s1P",
        "colab_type": "text"
      },
      "cell_type": "markdown",
      "source": [
        "\n",
        "\n",
        "```\n",
        "# This is formatted as code\n",
        "```\n",
        "\n",
        "!git clone https://github.com/jamesmcfarland/aini-hackathon-jamesleo.git\n",
        "df= jamesD = shuffle(pd.read_csv(\"aini-hackathon-jamesleo/5050.csv\"), random_state=12)\n",
        "df.head(3)\n"
      ]
    },
    {
      "metadata": {
        "id": "k42ltteeDiIJ",
        "colab_type": "code",
        "outputId": "fb4b72b4-74f5-4a54-c394-712faa6c9ff3",
        "colab": {
          "base_uri": "https://localhost:8080/",
          "height": 36
        }
      },
      "cell_type": "code",
      "source": [
        "from sklearn.feature_extraction.text import TfidfVectorizer\n",
        "y = df[\"Class\"]\n",
        "cv = TfidfVectorizer()\n",
        "x_vect = cv.fit_transform(df[\"Review\"])\n",
        "x_vect.shape\n"
      ],
      "execution_count": 3,
      "outputs": [
        {
          "output_type": "execute_result",
          "data": {
            "text/plain": [
              "(8958, 8419)"
            ]
          },
          "metadata": {
            "tags": []
          },
          "execution_count": 3
        }
      ]
    },
    {
      "metadata": {
        "id": "HYnKEgQXDimZ",
        "colab_type": "code",
        "outputId": "9be482a7-b18c-4ff8-e337-310f363aba19",
        "colab": {
          "base_uri": "https://localhost:8080/",
          "height": 36
        }
      },
      "cell_type": "code",
      "source": [
        "print(cv.vocabulary_.get(u'bought'))"
      ],
      "execution_count": 4,
      "outputs": [
        {
          "output_type": "stream",
          "text": [
            "1254\n"
          ],
          "name": "stdout"
        }
      ]
    },
    {
      "metadata": {
        "id": "yfwV6jNEGpzt",
        "colab_type": "code",
        "colab": {}
      },
      "cell_type": "code",
      "source": [
        "x_train, x_test, y_train, y_test = train_test_split(x_vect,y, test_size=0.2, random_state=12 )"
      ],
      "execution_count": 0,
      "outputs": []
    },
    {
      "metadata": {
        "id": "namxnxhD0s5Y",
        "colab_type": "code",
        "outputId": "59285e2a-7a51-4df6-918d-0d2c074fa7b5",
        "colab": {
          "base_uri": "https://localhost:8080/",
          "height": 1005
        }
      },
      "cell_type": "code",
      "source": [
        "print(x_train)"
      ],
      "execution_count": 6,
      "outputs": [
        {
          "output_type": "stream",
          "text": [
            "  (0, 8232)\t0.3566344397027915\n",
            "  (0, 3567)\t0.3412630437303406\n",
            "  (0, 1165)\t0.3091415352252296\n",
            "  (0, 6524)\t0.22025843573032008\n",
            "  (0, 7986)\t0.26088273546424345\n",
            "  (0, 3765)\t0.2057626104796799\n",
            "  (0, 7468)\t0.21107877872475664\n",
            "  (0, 8292)\t0.23776620123153147\n",
            "  (0, 7448)\t0.19346506331049265\n",
            "  (0, 6647)\t0.1653134398876723\n",
            "  (0, 5325)\t0.16008395299027361\n",
            "  (0, 4346)\t0.14274676874683462\n",
            "  (0, 3572)\t0.14800155159899836\n",
            "  (0, 5023)\t0.15702499383297658\n",
            "  (0, 3060)\t0.1356560388529037\n",
            "  (0, 6894)\t0.1011202101682207\n",
            "  (0, 3446)\t0.08106584613400093\n",
            "  (0, 8134)\t0.1447479708710363\n",
            "  (0, 8315)\t0.12796244448516259\n",
            "  (0, 586)\t0.13667307374682733\n",
            "  (0, 1023)\t0.13401935906107856\n",
            "  (0, 624)\t0.1241552269496715\n",
            "  (0, 7406)\t0.11120583096181379\n",
            "  (0, 4048)\t0.07137435735477293\n",
            "  (0, 7437)\t0.1004755711904957\n",
            "  :\t:\n",
            "  (7165, 4421)\t0.2564429248196017\n",
            "  (7165, 1389)\t0.2417211746472057\n",
            "  (7165, 7236)\t0.30747061520984864\n",
            "  (7165, 7518)\t0.21624220392439877\n",
            "  (7165, 6698)\t0.20914204062024083\n",
            "  (7165, 1685)\t0.2143765261575374\n",
            "  (7165, 6851)\t0.21462154154069688\n",
            "  (7165, 6894)\t0.2842889534587982\n",
            "  (7165, 3446)\t0.1139540974071761\n",
            "  (7165, 706)\t0.2395212439983034\n",
            "  (7165, 8315)\t0.17987655170118075\n",
            "  (7165, 5976)\t0.19069142188144964\n",
            "  (7165, 3416)\t0.19285053234301597\n",
            "  (7165, 8089)\t0.15566793120061345\n",
            "  (7165, 4088)\t0.21175318546740227\n",
            "  (7165, 7981)\t0.15603475235654596\n",
            "  (7165, 4035)\t0.09358636947573214\n",
            "  (7165, 4048)\t0.10033079105762953\n",
            "  (7165, 7453)\t0.09940421993509678\n",
            "  (7165, 992)\t0.18276849806130716\n",
            "  (7165, 3390)\t0.24915898567339664\n",
            "  (7165, 7410)\t0.1438225950319055\n",
            "  (7165, 675)\t0.1508666833412124\n",
            "  (7165, 7553)\t0.10215925201177535\n",
            "  (7165, 3205)\t0.10359208812928536\n"
          ],
          "name": "stdout"
        }
      ]
    },
    {
      "metadata": {
        "id": "viZNmCgHESfi",
        "colab_type": "code",
        "colab": {}
      },
      "cell_type": "code",
      "source": [
        "#from sklearn.naive_bayes import MultinomialNB\n",
        "#from sklearn.neural_network import MLPClassifier\n",
        "#from sklearn.neighbors import KNeighborsClassifier\n",
        "#from sklearn.svm import SVC\n",
        "#from sklearn.gaussian_process import GaussianProcessClassifier\n",
        "from sklearn.ensemble import AdaBoostClassifier\n",
        "'''\n",
        "from sklearn.svm import SVC\n",
        "svc = SVC(probability=True,kernel='linear')\n",
        "'''\n",
        "'''\n",
        "import xgboost as xgb\n",
        "# read in data\n",
        "dtrain = xgb.DMatrix('x_train')\n",
        "dtest = xgb.DMatrix('x_test')\n",
        "# specify parameters via map\n",
        "param = {'max_depth':2, 'eta':1, 'silent':1, 'objective':'binary:logistic' }\n",
        "num_round = 2\n",
        "bst = xgb.train(param, dtrain, num_round)\n",
        "# make prediction\n",
        "ypreds = bst.predict(dtest)\n",
        "'''\n",
        "\n",
        "clf = AdaBoostClassifier(n_estimators=1000, learning_rate=.25).fit(x_train, y_train)\n",
        "\n",
        "\n",
        "\n",
        "\n",
        "\n",
        "\n",
        "\n",
        "\n"
      ],
      "execution_count": 0,
      "outputs": []
    },
    {
      "metadata": {
        "id": "ERsnWITXLJ8y",
        "colab_type": "code",
        "colab": {}
      },
      "cell_type": "code",
      "source": [
        "clf.score(x_test, y_test)"
      ],
      "execution_count": 0,
      "outputs": []
    },
    {
      "metadata": {
        "id": "hMofUnjaLJ_V",
        "colab_type": "code",
        "colab": {}
      },
      "cell_type": "code",
      "source": [
        "ypreds = clf.predict(x_test)\n",
        "print(ypreds)"
      ],
      "execution_count": 0,
      "outputs": []
    },
    {
      "metadata": {
        "id": "gBWgJnWjmlQA",
        "colab_type": "code",
        "colab": {}
      },
      "cell_type": "code",
      "source": [
        "tpos, tneg, fpos, fneg = 0, 0, 0, 0\n",
        "\n",
        "for prediction, correct_value in zip(ypreds, y_test):\n",
        "    if prediction == 1 and correct_value == 1:\n",
        "        tpos += 1\n",
        "    if prediction == 1 and correct_value == 0:\n",
        "        fpos += 1\n",
        "    if prediction == 0 and correct_value == 0:\n",
        "        tneg += 1\n",
        "    if prediction == 0 and correct_value == 1:\n",
        "        fneg += 1\n",
        "        \n",
        "        \n",
        "        \n",
        "recall = (tpos) / (tpos + fneg)\n",
        "skrecall = sklearn.metrics.recall_score(y_test, ypreds)\n",
        "skpres = sklearn.metrics.precision_score(y_test, ypreds)\n",
        "skac = clf.score(x_test, y_test)\n",
        "print(f'Recall: {recall:.2f}')\n",
        "print(f'Sklearn recall: {sklearn.metrics.recall_score(y_test, ypreds):.2f}')\n",
        "precision = (tpos) / (tpos + fpos)\n",
        "print(f'Precision: {precision:.2f}')\n",
        "print(f'Skearn precision: {sklearn.metrics.precision_score(y_test, ypreds):.2f}')\n",
        "accuracy = (tpos + tneg) / (tpos + tneg + fpos + fneg)\n",
        "print(f'Accuracy: {accuracy:.2f}')\n",
        "print(f'Sklearn accuracy: {clf.score(x_test, y_test):.2f}')\n",
        "print(f'Average score={((recall+skrecall+skpres+precision+skac+accuracy)/6)*100}')"
      ],
      "execution_count": 0,
      "outputs": []
    },
    {
      "metadata": {
        "id": "vlY5uFEE8SJ1",
        "colab_type": "code",
        "colab": {}
      },
      "cell_type": "code",
      "source": [
        "plt.figure(figsize=(20,10))\n",
        "\n",
        "df.groupby('Class').count().plot.bar(ylim=0)\n",
        "plt.show()"
      ],
      "execution_count": 0,
      "outputs": []
    },
    {
      "metadata": {
        "id": "npMR10sWLIv_",
        "colab_type": "code",
        "colab": {}
      },
      "cell_type": "code",
      "source": [
        ""
      ],
      "execution_count": 0,
      "outputs": []
    },
    {
      "metadata": {
        "id": "q12h-hAbLI-2",
        "colab_type": "code",
        "colab": {}
      },
      "cell_type": "code",
      "source": [
        ""
      ],
      "execution_count": 0,
      "outputs": []
    },
    {
      "metadata": {
        "id": "9ZRip1ZALJBC",
        "colab_type": "code",
        "colab": {}
      },
      "cell_type": "code",
      "source": [
        ""
      ],
      "execution_count": 0,
      "outputs": []
    },
    {
      "metadata": {
        "id": "PTpZ7xDdERqV",
        "colab_type": "code",
        "colab": {}
      },
      "cell_type": "code",
      "source": [
        ""
      ],
      "execution_count": 0,
      "outputs": []
    },
    {
      "metadata": {
        "id": "3NScc20s-A74",
        "colab_type": "code",
        "colab": {}
      },
      "cell_type": "code",
      "source": [
        ""
      ],
      "execution_count": 0,
      "outputs": []
    },
    {
      "metadata": {
        "id": "wj_JeovT_hI1",
        "colab_type": "code",
        "colab": {}
      },
      "cell_type": "code",
      "source": [
        ""
      ],
      "execution_count": 0,
      "outputs": []
    },
    {
      "metadata": {
        "id": "Hs0Wn7po_hKv",
        "colab_type": "code",
        "colab": {}
      },
      "cell_type": "code",
      "source": [
        ""
      ],
      "execution_count": 0,
      "outputs": []
    },
    {
      "metadata": {
        "id": "04jSxBWv_hM3",
        "colab_type": "code",
        "colab": {}
      },
      "cell_type": "code",
      "source": [
        "#This is basically all we have to do\n",
        "#https://scikit-learn.org/stable/tutorial/text_analytics/working_with_text_data.html"
      ],
      "execution_count": 0,
      "outputs": []
    },
    {
      "metadata": {
        "id": "57zRFrCV_hO-",
        "colab_type": "code",
        "colab": {}
      },
      "cell_type": "code",
      "source": [
        "\n"
      ],
      "execution_count": 0,
      "outputs": []
    },
    {
      "metadata": {
        "id": "AYfVZgHL9VNk",
        "colab_type": "code",
        "colab": {}
      },
      "cell_type": "code",
      "source": [
        "print(\"Hey\")"
      ],
      "execution_count": 0,
      "outputs": []
    },
    {
      "metadata": {
        "id": "69IupqtF9eN2",
        "colab_type": "code",
        "colab": {}
      },
      "cell_type": "code",
      "source": [
        "https://scikit-learn.org/stable/auto_examples/classification/plot_classifier_comparison.html"
      ],
      "execution_count": 0,
      "outputs": []
    }
  ]
}